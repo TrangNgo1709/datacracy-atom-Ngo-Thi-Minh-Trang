{
  "nbformat": 4,
  "nbformat_minor": 0,
  "metadata": {
    "colab": {
      "name": "PART I: PYTHON PROGRAMMING BASIC",
      "provenance": [],
      "collapsed_sections": [],
      "authorship_tag": "ABX9TyP/Xxk35EAUpn67yrVJ2ObM",
      "include_colab_link": true
    },
    "kernelspec": {
      "name": "python3",
      "display_name": "Python 3"
    },
    "language_info": {
      "name": "python"
    }
  },
  "cells": [
    {
      "cell_type": "markdown",
      "metadata": {
        "id": "view-in-github",
        "colab_type": "text"
      },
      "source": [
        "<a href=\"https://colab.research.google.com/github/TrangNgo1709/datacracy-atom-Ngo-Thi-Minh-Trang/blob/main/PART_I_PYTHON_PROGRAMMING_BASIC.ipynb\" target=\"_parent\"><img src=\"https://colab.research.google.com/assets/colab-badge.svg\" alt=\"Open In Colab\"/></a>"
      ]
    },
    {
      "cell_type": "markdown",
      "metadata": {
        "id": "rQ76Z6Iheguc"
      },
      "source": [
        "1. My first program"
      ]
    },
    {
      "cell_type": "code",
      "metadata": {
        "id": "ilbY57nfZa0V"
      },
      "source": [
        "# This program says hello and asks for my name.\n",
        "\n",
        "print('Hello, world!')\n",
        "print('What is your name?') # ask for their name\n",
        "myName = input()\n",
        "print('It is good to meet you, ' + myName)\n",
        "print('The length of your name is:')\n",
        "print(len(myName))\n",
        "print('What is your age?') # ask for their age\n",
        "myAge = input()\n",
        "print('You will be ' + str(int(myAge) + 1) + ' in a year.')"
      ],
      "execution_count": null,
      "outputs": []
    },
    {
      "cell_type": "markdown",
      "metadata": {
        "id": "VBHIOm11eYf-"
      },
      "source": [
        "2. A Short Program: Rock, Paper, Scissors"
      ]
    },
    {
      "cell_type": "code",
      "metadata": {
        "id": "6_U97EDmbU4X"
      },
      "source": [
        "import random, sys \n",
        "\n",
        "print('ROCK, PAPER, SCISSORS')\n",
        "\n",
        "# These variables keep track of the number of wins, losses, and ties. \n",
        "wins = 0\n",
        "losses = 0\n",
        "ties = 0\n",
        "\n",
        "while True: # The main game loop.\n",
        "  print('%s Wins, %s Losses, %s Ties' % (wins, losses, ties)) \n",
        "  while True: # The player input loop.\n",
        "    print('Enter your move: (r)ock (p)aper (s)cissors or (q)uit')\n",
        "    playerMove = input()\n",
        "    if playerMove == 'q':\n",
        "      sys.exit() # Quit the program.\n",
        "    if playerMove == 'r' or playerMove == 'p' or playerMove == 's':\n",
        "      break # Break out of the player input loop.\n",
        "    print('Type one of r, p, s, or q.')\n",
        "\n",
        "  # Display what the player chose\n",
        "  if playerMove == 'r':\n",
        "    print('ROCK versus...')\n",
        "  elif playerMove == 'p':\n",
        "    print('PAPER versus...')\n",
        "  elif playerMove == 's':\n",
        "    print('SCISSORS versus...')\n",
        "\n",
        "  # Display what the computer chose:\n",
        "  randomNumber = random.randint(1, 3)\n",
        "  if randomNumber == 1:\n",
        "    computerMove = 'r'\n",
        "    print('ROCK')\n",
        "  elif randomNumber == 2:\n",
        "    computerMove = 'p'\n",
        "    print('PAPER')\n",
        "  elif randomNumber == 3:\n",
        "    computerMove = 's'\n",
        "    print('SCISSORS')\n",
        "\n",
        "  # Display and record the win/loss/tie:\n",
        "  if playerMove == computerMove:\n",
        "    print('It is a tie!')\n",
        "    ties = ties + 1\n",
        "  elif playerMove == 'r' and computerMove == 's':\n",
        "    print('You win!')\n",
        "    wins = wins + 1\n",
        "  elif playerMove == 'p' and computerMove == 'r':\n",
        "    print('You win!')\n",
        "    wins = wins + 1\n",
        "  elif playerMove == 's' and computerMove == 'p':\n",
        "    print('You win!')\n",
        "    wins = wins + 1\n",
        "  elif playerMove == 'r' and computerMov == 'p':\n",
        "    print('You lose!')\n",
        "    losses = losses + 1\n",
        "  elif playerMove == 'p'and computerMove == 's':\n",
        "    print('You lose!')\n",
        "    losses = losses + 1\n",
        "  elif playerMove == 's' and computerMove == 'r':\n",
        "    print('You lose!')\n",
        "    losses = losses + 1"
      ],
      "execution_count": null,
      "outputs": []
    },
    {
      "cell_type": "markdown",
      "metadata": {
        "id": "9-VSvcRUe4mT"
      },
      "source": [
        "3. A Short Program: ZigZag"
      ]
    },
    {
      "cell_type": "code",
      "metadata": {
        "id": "U5ADj0yfdxeG"
      },
      "source": [
        "import time, sys\n",
        "indent = 0 # How many spaces to indent.\n",
        "indentIncreasing = True # Whether the indentation is increasing or not.\n",
        "\n",
        "try:\n",
        "  while True: # The main program loop.\n",
        "    print(' ' * indent, end='')\n",
        "    print('********')\n",
        "    time.sleep(0.1) # Pause for 1/10 of a second.\n",
        "\n",
        "    if indentIncreasing:\n",
        "      # Increase the number of spaces:\n",
        "      indent = indent + 1\n",
        "      if indent == 20:\n",
        "        # Change direction:\n",
        "        indentIncreasing = False\n",
        "    else:\n",
        "      # Decrease the number of spaces:\n",
        "      indent = indent - 1\n",
        "      if indent == 0:\n",
        "        # Change direction:\n",
        "        indentIncreasing = True\n",
        "except KeyboardInterrupt:\n",
        "  sys.exit()"
      ],
      "execution_count": null,
      "outputs": []
    },
    {
      "cell_type": "markdown",
      "metadata": {
        "id": "2m4Xn4EXfECr"
      },
      "source": [
        "4. A Short Program: Conway's Game of Life"
      ]
    },
    {
      "cell_type": "code",
      "metadata": {
        "id": "DsXOSvJVfJXR"
      },
      "source": [
        "# Conway's Game of Life \n",
        "import random, time, copy \n",
        "WIDTH = 60\n",
        "HEIGHT = 20\n",
        "\n",
        "# Create a list of list for the cells:\n",
        "nextCells = []\n",
        "for x in range(WIDTH):\n",
        "  column = [] # Create a new column.\n",
        "  for y in range(HEIGHT):\n",
        "    if random.randint(0, 1) == 0:\n",
        "      column.append('#') # Add a living cell.\n",
        "    else:\n",
        "      column.append(' ') # Add a dead cell.\n",
        "  nextCells.append(column) # nextCells is a list of column lists.\n",
        "\n",
        "while True: # Main program loop.\n",
        "  print('\\n\\n\\n\\n\\n') # Separate each step with newlines.\n",
        "  currentCells = copy.deepcopy(nextCells)\n",
        "\n",
        "  # Print currentCells on the screen:\n",
        "  for y in range(HEIGHT):\n",
        "    for x in range(WIDTH):\n",
        "      print(currentCells[x][y], end='') # Print the # or space.\n",
        "    print() # Print a newline at the end of the row.\n",
        "\n",
        "  # Calculate the next step's cells based on current step's cells:\n",
        "  for x in range(WIDTH):\n",
        "    for y in range(HEIGHT):\n",
        "      # Get neighboring coordinates:\n",
        "      # `% WIDTH` ensures leftCoord is always between 0 and WIDTH - 1 \n",
        "      leftCoord = (x - 1) % WIDTH\n",
        "      rightCoord = (x + 1) % WIDTH\n",
        "      aboveCoord = (y - 1) % HEIGHT\n",
        "      belowCoord = (y + 1) % HEIGHT\n",
        "\n",
        "      # Count number of living neighbors:\n",
        "      numNeighbors = 0\n",
        "      if currentCells[leftCoord][aboveCoord] == '#':\n",
        "        numNeighbors += 1 # Top-left neighbor is alive.\n",
        "      if currentCells[x][aboveCoord] == '#':\n",
        "        numNeighbors += 1 # Top neighbor is alive.\n",
        "      if currentCells[rightCoord][aboveCoord] == '#':\n",
        "        numNeighbors += 1 # Top-right neighbor is alive.\n",
        "      if currentCells[leftCoord][y] == '#':\n",
        "        numNeighbors += 1 # Left neighbor is alive.\n",
        "      if currentCells[rightCoord][y] == '#':\n",
        "        numNeighbors += 1 # Right neighbor is alive.\n",
        "      if currentCells[leftCoord][belowCoord] == '#':\n",
        "        numNeighbors += 1 # Bottom-left neighbor is alive.\n",
        "      if currentCells[x][belowCoord] == '#':\n",
        "        numNeighbors += 1 # Bottom neighbor is alive.\n",
        "      if currentCells[rightCoord][belowCoord] == '#':\n",
        "        numNeighbors += 1 # Bottom-right neighbor is alive.\n",
        "\n",
        "      # Set cell based on Conway's Game of Life rules:\n",
        "      if currentCells[x][y] == '#' and (numNeighbors == 2 or numNeighbors == 3):\n",
        "        # Living cells with 2 or 3 neighbors stay alive:\n",
        "        nextCells[x][y] = '#'\n",
        "      elif currentCells[x][y] == ' ' and numNeighbors == 3:\n",
        "        # Dead cells with 3 neighbors become alive:\n",
        "        nextCells[x][y] = '#'\n",
        "      else:\n",
        "        # Everything else dies or stays dead:\n",
        "        nextCells[x][y] = ' '\n",
        "  time.sleep(1) # Add a 1-second pause to reduce flickering."
      ],
      "execution_count": null,
      "outputs": []
    },
    {
      "cell_type": "markdown",
      "metadata": {
        "id": "CTCeTZaAftsV"
      },
      "source": [
        "5. Tic-Tac-Toe Board"
      ]
    },
    {
      "cell_type": "code",
      "metadata": {
        "id": "yi9LFxgigIrz"
      },
      "source": [
        "# create the Board structure\n",
        "theBoard = {'top-L': ' ', 'top-M': ' ', 'top-R': ' ',\n",
        "            'mid-L': ' ', 'mid-M': ' ', 'mid-R': ' ',\n",
        "            'low-L': ' ', 'low-M': ' ', 'low-R': ' '}\n",
        "# define function to print the Board\n",
        "def printBoard(board):\n",
        "  print(board['top-L'] + '|' + board['top-M'] + '|' + board['top-R'])\n",
        "  print('-+-+-')\n",
        "  print(board['mid-L'] + '|' + board['mid-M'] + '|' + board['mid-R'])\n",
        "  print('-+-+-')\n",
        "  print(board['low-L'] + '|' + board['low-M'] + '|' + board['low-R'])\n",
        "\n",
        "# Greetings\n",
        "print('Hello there! Wanna play Tic-Tac-Toe?')\n",
        "\n",
        "# X goes first by default\n",
        "turn = 'X'\n",
        "\n",
        "# Create a tuple that includes all winning possibilities\n",
        "winList = (('top-L', 'top-M', 'top-R'), ('mid-L', 'mid-M', 'mid-R'), ('low-L', 'low-M', 'low-R'),\n",
        "           ('top-L', 'mid-L', 'low-L'), ('top-M', 'mid-M', 'low-M'), ('top-R', 'mid-R', 'low-R'),\n",
        "           ('top-L', 'mid-M', 'low-R'), ('top-R', 'mid-M', 'low-L'))\n",
        "\n",
        "# Create a list of X & O coordinates\n",
        "coordinateX = []\n",
        "coordinateO = []\n",
        "countX = 0\n",
        "countO = 0\n",
        "\n",
        "# Main program loop\n",
        "for i in range(9):\n",
        "  printBoard(theBoard)\n",
        "\n",
        "  # Check if the game should end\n",
        "  if countX == 3 or countO == 3:\n",
        "    break\n",
        "\n",
        "  # Asking for user input\n",
        "  print('Turn for ' + turn + '. Move on which space?')\n",
        "  move = input()\n",
        "\n",
        "  # Set cell using user input\n",
        "  if theBoard[move] == ' ':\n",
        "    theBoard[move] = turn\n",
        "    # Switch turns\n",
        "    if turn == 'X':\n",
        "      coordinateX.append(move)\n",
        "      turn = 'O'\n",
        "    else:\n",
        "      coordinateO.append(move)\n",
        "      turn = 'X'\n",
        "  else:\n",
        "    print('Invalid move. Please try again!')\n",
        "  \n",
        "  # Check to see if any player has won\n",
        "  for index, item in enumerate(winList):\n",
        "    for check in item:\n",
        "      if check in coordinateX:\n",
        "        countX += 1\n",
        "      elif check in coordinateO:\n",
        "        countO += 1\n",
        "      else:\n",
        "        countX = 0\n",
        "        countO = 0\n",
        "        break\n",
        "    if countX == 3:\n",
        "      print('Congrats! X won!')\n",
        "      break\n",
        "    elif countO == 3:\n",
        "      print('Congrats! O won!')\n",
        "      break"
      ],
      "execution_count": null,
      "outputs": []
    }
  ]
}